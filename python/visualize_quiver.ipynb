{
 "cells": [
  {
   "cell_type": "code",
   "execution_count": null,
   "metadata": {},
   "outputs": [],
   "source": [
    "from matplotlib import pyplot as plt\n",
    "import numpy as np\n",
    "# import horn as h\n",
    "import lucas as l\n",
    "import os"
   ]
  },
  {
   "cell_type": "code",
   "execution_count": null,
   "metadata": {},
   "outputs": [],
   "source": [
    "def quiver(flow,title,scale=None,step=5,eps = 0.0000000001,save_path=\"quiver.png\"):\n",
    "    plt.figure(figsize=(10,5))\n",
    "    \n",
    "    plt.title(title, fontsize=20)\n",
    "    \n",
    "    if(scale):\n",
    "        norm = np.sqrt(flow[:,:,0]**2 + (flow[:,:,1])**2)\n",
    "        flow[:,:,0] /= (norm + eps)\n",
    "        flow[:,:,1] /= (norm + eps)\n",
    "    \n",
    "    plt.quiver(np.arange(0,flow.shape[1],step), \n",
    "               np.arange(flow.shape[0], 0,-step), \n",
    "               flow[::step,::step, 0], \n",
    "               -flow[::step,::step, 1])\n",
    "    plt.xticks(fontsize=20)\n",
    "    plt.yticks(fontsize=20)\n",
    "    \n",
    "    plt.tight_layout()#adjust figsize to fit the screen\n",
    "    plt.savefig(save_path)\n",
    "    plt.show()"
   ]
  },
  {
   "cell_type": "code",
   "execution_count": null,
   "metadata": {},
   "outputs": [],
   "source": [
    "# Get the current working directory\n",
    "dir = \"taxi\"\n",
    "cwd = os.getcwd()\n",
    "SCRIPTS_DIR = os.path.dirname(cwd)\n",
    "DATA_DIR = os.path.join(SCRIPTS_DIR, 'data', dir)\n",
    "print('Data directory: ', DATA_DIR)"
   ]
  },
  {
   "cell_type": "code",
   "execution_count": null,
   "metadata": {},
   "outputs": [],
   "source": [
    "# change to h for horn, l for lucas\n",
    "flow=l.main(args={\n",
    "             \"dir\":dir,\n",
    "             \"window_min\":30, \n",
    "             \"window_max\":101, \n",
    "             \"window_step\":10000, \n",
    "             \"return_flow\":True,\n",
    "             \"iterations\":1000,\n",
    "             \"save_name_colormap\":\"color_map_angular_error_lucas.png\",\n",
    "             \"gaussian_kernel\":False\n",
    "             })\n",
    "quiver(flow,\n",
    "       \"[\"+dir+\"] Velocity Map - angular error\",\n",
    "       # scale=1,\n",
    "       step=5,\n",
    "       eps = 0.0000000001, \n",
    "       save_path=DATA_DIR+\"/velocity_map_best_lucas.png\",\n",
    "       )"
   ]
  },
  {
   "cell_type": "code",
   "execution_count": null,
   "metadata": {},
   "outputs": [],
   "source": [
    "# change to h for horn, l for lucas\n",
    "flow=l.main(args={\n",
    "             \"dir\":dir,\n",
    "             \"window_min\":13, \n",
    "             \"window_max\":14, \n",
    "             \"window_step\":2, \n",
    "             \"return_flow\":True,\n",
    "             \"save_name_colormap\":\"color_map_endpoint_error_lucas.png\",\n",
    "             \"gaussian_kernel\":False\n",
    "             })\n",
    "quiver(flow,\n",
    "       \"[\"+dir+\"] Velocity Map - End Point error\",\n",
    "       scale=10,\n",
    "       step=5,\n",
    "       eps = 0.0000000001, \n",
    "       save_path=DATA_DIR+\"/velocity_map_endpoint_error_lucas.png\",\n",
    "       )"
   ]
  },
  {
   "cell_type": "code",
   "execution_count": null,
   "metadata": {},
   "outputs": [],
   "source": [
    "# change to h for horn, l for lucas\n",
    "flow=l.main(args={\n",
    "             \"dir\":dir,\n",
    "             \"window_min\":93, \n",
    "             \"window_max\":94, \n",
    "             \"window_step\":2, \n",
    "             \"return_flow\":True,\n",
    "             \"save_name_colormap\":\"color_map_norm_error_lucas.png\",\n",
    "             \"gaussian_kernel\":False\n",
    "             })\n",
    "quiver(flow,\n",
    "       \"[\"+dir+\"] Velocity Map - norm error\",\n",
    "       scale=10,\n",
    "       step=5,\n",
    "       eps = 0.0000000001, \n",
    "       save_path=DATA_DIR+\"/velocity_map_norm_error_lucas.png\",\n",
    "       )"
   ]
  }
 ],
 "metadata": {
  "kernelspec": {
   "display_name": "base",
   "language": "python",
   "name": "python3"
  },
  "language_info": {
   "codemirror_mode": {
    "name": "ipython",
    "version": 3
   },
   "file_extension": ".py",
   "mimetype": "text/x-python",
   "name": "python",
   "nbconvert_exporter": "python",
   "pygments_lexer": "ipython3",
   "version": "3.10.9"
  }
 },
 "nbformat": 4,
 "nbformat_minor": 2
}
