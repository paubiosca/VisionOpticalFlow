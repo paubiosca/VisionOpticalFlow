{
 "cells": [
  {
   "cell_type": "code",
   "execution_count": null,
   "metadata": {},
   "outputs": [],
   "source": [
    "import os\n",
    "import pickle\n",
    "import matplotlib.pyplot as plt\n",
    "import numpy as np"
   ]
  },
  {
   "cell_type": "code",
   "execution_count": null,
   "metadata": {},
   "outputs": [],
   "source": [
    "# Get the current working directory\n",
    "dir = \"rubic\"\n",
    "cwd = os.getcwd()\n",
    "SCRIPTS_DIR = os.path.dirname(cwd)\n",
    "DATA_DIR = os.path.join(SCRIPTS_DIR, 'data', dir)\n",
    "print('Data directory: ', DATA_DIR)"
   ]
  },
  {
   "cell_type": "code",
   "execution_count": null,
   "metadata": {},
   "outputs": [],
   "source": [
    "# Load the data from the pickle file\n",
    "with open(DATA_DIR+'/statistics_horn.pkl', 'rb') as file:\n",
    "    data = pickle.load(file)"
   ]
  },
  {
   "cell_type": "code",
   "execution_count": null,
   "metadata": {},
   "outputs": [],
   "source": [
    "\n",
    "# Extract values for plotting\n",
    "alphas = list(data.keys())\n",
    "angular_errors_mean = [entry['angular_error']['mean'][0] for entry in data.values()]\n",
    "angular_errors_std = [entry['angular_error']['std'][0] for entry in data.values()]\n",
    "\n",
    "end_point_errors_mean = [entry['end_point_error']['mean'][0] for entry in data.values()]\n",
    "end_point_errors_std = [entry['end_point_error']['std'][0] for entry in data.values()]\n",
    "\n",
    "relative_norm_errors_mean = [entry['relative_norm_error']['mean'][0] for entry in data.values()]\n",
    "relative_norm_errors_std = [entry['relative_norm_error']['std'][0] for entry in data.values()]\n",
    "\n",
    "# Plotting\n",
    "fig, (ax1, ax2,ax3) = plt.subplots(1, 3, figsize=(25, 5))\n",
    "fig.suptitle('Error Metrics vs. Alpha with Confidence Intervals (std)', fontsize=20.0)\n",
    "\n",
    "\n",
    "# Angular Error\n",
    "l1,=ax1.plot(alphas, angular_errors_mean, label='Angular Error (Mean)',color='blue')\n",
    "ax1.fill_between(alphas, np.array(angular_errors_mean) - np.array(angular_errors_std),\n",
    "                 np.array(angular_errors_mean) + np.array(angular_errors_std), alpha=0.3,color='blue')\n",
    "ax1.grid(True)\n",
    "ax1.yaxis.set_tick_params(labelsize=15.0)\n",
    "ax1.xaxis.set_tick_params(labelsize=15.0)\n",
    "\n",
    "# End Point Error\n",
    "l2,=ax2.plot(alphas, end_point_errors_mean, label='End Point Error (Mean)',color='darkorange')\n",
    "ax2.fill_between(alphas, np.array(end_point_errors_mean) - np.array(end_point_errors_std),\n",
    "                 np.array(end_point_errors_mean) + np.array(end_point_errors_std), alpha=0.3,color='darkorange')\n",
    "ax2.grid(True)\n",
    "ax2.yaxis.set_tick_params(labelsize=15.0)\n",
    "ax2.xaxis.set_tick_params(labelsize=15.0)\n",
    "\n",
    "# Relative Norm Error\n",
    "l3,=ax3.plot(alphas, relative_norm_errors_mean, label='Relative Norm Error (Mean)',color='green')\n",
    "ax3.fill_between(alphas, np.array(relative_norm_errors_mean) - np.array(relative_norm_errors_std),\n",
    "                 np.array(relative_norm_errors_mean) + np.array(relative_norm_errors_std), alpha=0.3,color='green')\n",
    "ax3.grid(True)\n",
    "ax3.yaxis.set_tick_params(labelsize=15.0)\n",
    "ax3.xaxis.set_tick_params(labelsize=15.0)\n",
    "\n",
    "# Customize labels and ticks\n",
    "ax1.set_ylabel(ylabel='Error Values (Mean)',fontsize = 20.0)\n",
    "\n",
    "ax2.set_xlabel(xlabel='Alpha', fontsize = 20.0)\n",
    "\n",
    "# Put a legend below current axis\n",
    "ax2.legend(handles=[l1,l2,l3], loc='upper center', bbox_to_anchor=(0.5, -0.15),\n",
    "          fancybox=True, shadow=True, ncol=5, fontsize=20.0)\n",
    "plt.subplots_adjust(hspace=3)\n",
    "plt.savefig(DATA_DIR+'/errors_horn.png', bbox_inches='tight')\n",
    "\n",
    "plt.show()"
   ]
  },
  {
   "cell_type": "code",
   "execution_count": null,
   "metadata": {},
   "outputs": [],
   "source": [
    "# best alpha for angular error\n",
    "best_alpha_index = angular_errors_mean.index(min(angular_errors_mean))\n",
    "best_alpha = alphas[best_alpha_index]\n",
    "print(\"Best Alpha for angular error:\", best_alpha)\n",
    "\n",
    "# best alpha for end point error\n",
    "best_alpha_index = end_point_errors_mean.index(min(end_point_errors_mean))\n",
    "best_alpha = alphas[best_alpha_index]\n",
    "print(\"Best Alpha for end-point error:\", best_alpha)\n",
    "\n",
    "# best alpha for relative norm error\n",
    "best_alpha_index = relative_norm_errors_mean.index(min(relative_norm_errors_mean))\n",
    "best_alpha = alphas[best_alpha_index]\n",
    "print(\"Best Alpha for relative norm error:\", best_alpha)\n"
   ]
  }
 ],
 "metadata": {
  "kernelspec": {
   "display_name": "base",
   "language": "python",
   "name": "python3"
  },
  "language_info": {
   "codemirror_mode": {
    "name": "ipython",
    "version": 3
   },
   "file_extension": ".py",
   "mimetype": "text/x-python",
   "name": "python",
   "nbconvert_exporter": "python",
   "pygments_lexer": "ipython3",
   "version": "3.10.9"
  }
 },
 "nbformat": 4,
 "nbformat_minor": 2
}
